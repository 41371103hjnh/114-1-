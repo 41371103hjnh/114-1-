{
  "nbformat": 4,
  "nbformat_minor": 0,
  "metadata": {
    "colab": {
      "provenance": [],
      "mount_file_id": "1VTMjsOjaneOLfeMdd2tYCINMLTBTukXd",
      "authorship_tag": "ABX9TyOieIeU1m2AxtEXVVpnQig7",
      "include_colab_link": true
    },
    "kernelspec": {
      "name": "python3",
      "display_name": "Python 3"
    },
    "language_info": {
      "name": "python"
    }
  },
  "cells": [
    {
      "cell_type": "markdown",
      "metadata": {
        "id": "view-in-github",
        "colab_type": "text"
      },
      "source": [
        "<a href=\"https://colab.research.google.com/github/41371103hjnh/114-1-/blob/main/HW1%E6%97%A5%E5%B8%B8%E6%94%AF%E5%87%BA%E9%80%9F%E7%AE%97%E8%88%87%E5%88%86%E6%94%A4.ipynb\" target=\"_parent\"><img src=\"https://colab.research.google.com/assets/colab-badge.svg\" alt=\"Open In Colab\"/></a>"
      ]
    },
    {
      "cell_type": "markdown",
      "source": [
        "#HW1\n",
        "拉麵店簡易點餐系統，\n",
        "結帳時會附上今日運勢。"
      ],
      "metadata": {
        "id": "XBU9vI-31AIo"
      }
    },
    {
      "cell_type": "code",
      "source": [
        "# 匯入需要的模組\n",
        "from datetime import datetime\n",
        "import random\n",
        "import gspread\n",
        "from google.colab import auth\n",
        "from google.auth import default\n",
        "import pytz"
      ],
      "metadata": {
        "id": "sKrdOju90EfD"
      },
      "execution_count": 9,
      "outputs": []
    },
    {
      "cell_type": "code",
      "source": [
        "# Google Colab 認證\n",
        "auth.authenticate_user()\n",
        "creds, _ = default()\n",
        "gc = gspread.authorize(creds)"
      ],
      "metadata": {
        "id": "jvs1PreV0E-4"
      },
      "execution_count": 10,
      "outputs": []
    },
    {
      "cell_type": "code",
      "source": [
        "# 設定時區為台灣時間 (Asia/Taipei)\n",
        "taiwan_tz = pytz.timezone('Asia/Taipei')\n",
        "\n",
        "# 定義菜單\n",
        "menu = {\n",
        "    \"1\": {\"name\": \"醬油拉麵\", \"price\": 130},\n",
        "    \"2\": {\"name\": \"味噌拉麵\", \"price\": 150},\n",
        "    \"3\": {\"name\": \"豚骨拉麵\", \"price\": 150},\n",
        "    \"4\": {\"name\": \"麻辣拉麵\", \"price\": 160},\n",
        "    \"5\": {\"name\": \"柚香雞白湯拉麵\", \"price\": 230}\n",
        "}\n",
        "\n",
        "# 定義運勢列表\n",
        "fortune_list = [\n",
        "    \"大吉：運勢爆表!順利到起飛啦~\",\n",
        "    \"吉：吉吉富吉吉!\",\n",
        "    \"中吉：勇於嘗試會有意想不到的收穫！\",\n",
        "    \"小吉：平淡而美好的一天~\",\n",
        "    \"末吉：莫寂寞莫慌害怕~\",\n",
        "    \"凶：別讓挫折打倒你!\",\n",
        "    \"大凶：來碗拉麵將逢凶化吉!\"\n",
        "]\n",
        "\n",
        "# 顯示歡迎訊息與菜單\n",
        "print(\"=====歡迎光臨柯基拉麵=====\")\n",
        "print(\"品項：\")\n",
        "for key in menu:\n",
        "    print(f\"{key}.{menu[key]['name']} {menu[key]['price']}元\")\n",
        "print(\"=========================\")\n",
        "\n",
        "# 使用者輸入日期與時間\n",
        "date_input = input(\"請輸入日期 (YYYY-MM-DD) 或按Enter使用今天日期: \")\n",
        "time_input = input(\"請輸入時間 (HH:MM) 或按Enter使用現在時間: \")\n",
        "\n",
        "# 如果使用者沒輸入，就用系統時間（台灣時間）\n",
        "now_taiwan = datetime.now(taiwan_tz)\n",
        "date = date_input if date_input.strip() != \"\" else now_taiwan.strftime(\"%Y-%m-%d\")\n",
        "time = time_input if time_input.strip() != \"\" else now_taiwan.strftime(\"%H:%M\")\n",
        "\n",
        "# 初始化點餐清單與總金額\n",
        "orders = []\n",
        "total_price = 0\n",
        "\n",
        "# 點餐迴圈\n",
        "while True:\n",
        "    item = input(\"請輸入品項編號 (空白結束): \")\n",
        "    if item.strip() == \"\":\n",
        "        break\n",
        "    if item not in menu:\n",
        "        print(\"輸入錯誤，請重新輸入\")\n",
        "        continue\n",
        "    quantity = input(\"請輸入數量: \")\n",
        "    if not quantity.isdigit() or int(quantity) <= 0:\n",
        "        print(\"數量需為正整數，請重新輸入\")\n",
        "        continue\n",
        "    quantity = int(quantity)\n",
        "    # 加入訂單\n",
        "    orders.append({\"name\": menu[item][\"name\"], \"quantity\": quantity, \"price\": menu[item][\"price\"]})\n",
        "    total_price += menu[item][\"price\"] * quantity\n",
        "\n",
        "# 顯示訂單明細\n",
        "print(\"\\n=====您的餐點如下=====\")\n",
        "print(f\"日期: {date}  時間: {time}\")\n",
        "print(\"品項\\t數量\\t單價\\t小計\")\n",
        "for order in orders:\n",
        "    subtotal = order[\"price\"] * order[\"quantity\"]\n",
        "    print(f\"{order['name']}\\t{order['quantity']}\\t{order['price']}\\t{subtotal}\")\n",
        "\n",
        "print(f\"總金額: {total_price}元\")\n",
        "\n",
        "# 顯示隨機運勢\n",
        "fortune = random.choice(fortune_list)\n",
        "print(f\"今日運勢：{fortune}\")\n",
        "\n",
        "print(\"=====謝謝您的光臨=====\")\n",
        "\n",
        "# 將訂單寫入 Google 試算表\n",
        "try:\n",
        "    # 打開您指定的試算表\n",
        "    gsheets = gc.open_by_url('https://docs.google.com/spreadsheets/d/1K4Mz6mjHyLJJXb7PzLZ79kBxbW58xs4rIZ4_ZalPZj4/edit?usp=sharing')\n",
        "    # 選擇要寫入的工作表\n",
        "    worksheet = gsheets.worksheet('工作表1')\n",
        "\n",
        "    # 遍歷訂單，並在最後一項加入總金額\n",
        "    for i, order in enumerate(orders):\n",
        "        is_last_item = (i == len(orders) - 1)\n",
        "        subtotal = order[\"price\"] * order[\"quantity\"]\n",
        "\n",
        "        row_data = [\n",
        "            date,\n",
        "            time,\n",
        "            order[\"name\"],\n",
        "            order[\"quantity\"],\n",
        "            order[\"price\"],\n",
        "            subtotal,\n",
        "            total_price if is_last_item else \"\"  # 只有在最後一筆時才顯示總金額\n",
        "        ]\n",
        "        # 在工作表的最後一列插入新資料\n",
        "        worksheet.append_row(row_data)\n",
        "\n",
        "    print(\"\\n✅ 訂單資料已成功寫入 Google 試算表！\")\n",
        "\n",
        "except gspread.exceptions.APIError as e:\n",
        "    print(f\"\\n❌ 寫入 Google 試算表時發生錯誤：{e}\")\n",
        "    print(\"請檢查您的試算表權限或網址是否正確。\")"
      ],
      "metadata": {
        "colab": {
          "base_uri": "https://localhost:8080/"
        },
        "id": "m_lTOATu0zFF",
        "outputId": "d75be87f-3679-43e9-b7be-22fd59ec6a3a"
      },
      "execution_count": 12,
      "outputs": [
        {
          "output_type": "stream",
          "name": "stdout",
          "text": [
            "=====歡迎光臨柯基拉麵=====\n",
            "品項：\n",
            "1.醬油拉麵 130元\n",
            "2.味噌拉麵 150元\n",
            "3.豚骨拉麵 150元\n",
            "4.麻辣拉麵 160元\n",
            "5.柚香雞白湯拉麵 230元\n",
            "=========================\n",
            "請輸入日期 (YYYY-MM-DD) 或按Enter使用今天日期: \n",
            "請輸入時間 (HH:MM) 或按Enter使用現在時間: \n",
            "請輸入品項編號 (空白結束): 4\n",
            "請輸入數量: 1\n",
            "請輸入品項編號 (空白結束): 3\n",
            "請輸入數量: 2\n",
            "請輸入品項編號 (空白結束): \n",
            "\n",
            "=====您的餐點如下=====\n",
            "日期: 2025-09-11  時間: 16:21\n",
            "品項\t數量\t單價\t小計\n",
            "麻辣拉麵\t1\t160\t160\n",
            "豚骨拉麵\t2\t150\t300\n",
            "總金額: 460元\n",
            "今日運勢：凶：別讓挫折打倒你!\n",
            "=====謝謝您的光臨=====\n",
            "\n",
            "✅ 訂單資料已成功寫入 Google 試算表！\n"
          ]
        }
      ]
    }
  ]
}